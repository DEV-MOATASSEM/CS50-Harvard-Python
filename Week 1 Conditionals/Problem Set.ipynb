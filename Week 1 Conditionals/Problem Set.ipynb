{
 "cells": [
  {
   "cell_type": "markdown",
   "metadata": {},
   "source": [
    "# Conditionals\n"
   ]
  },
  {
   "cell_type": "markdown",
   "metadata": {},
   "source": [
    "## 1. Deep Thought"
   ]
  },
  {
   "cell_type": "markdown",
   "metadata": {},
   "source": [
    "In deep.py, implement a program that prompts the user for the answer to the Great Question of Life, the Universe and Everything, outputting Yes if the user inputs 42 or (case-insensitively) forty-two or forty two. Otherwise output No."
   ]
  },
  {
   "cell_type": "code",
   "execution_count": 3,
   "metadata": {},
   "outputs": [
    {
     "name": "stdout",
     "output_type": "stream",
     "text": [
      "Yes\n"
     ]
    }
   ],
   "source": [
    "xy=input(\"What is the answer to the Great Question of Life, the Universe and Everything?\").casefold()\n",
    "\n",
    "xy=xy.strip()\n",
    "\n",
    "match xy:\n",
    "    case \"42\" | \"forty-two\" | \"forty two\":\n",
    "        print(\"Yes\")\n",
    "    case _:\n",
    "        print(\"No\")"
   ]
  },
  {
   "cell_type": "markdown",
   "metadata": {},
   "source": [
    "## 2.Home Federal Savings Bank"
   ]
  },
  {
   "cell_type": "markdown",
   "metadata": {},
   "source": [
    "In season 7, episode 24 of Seinfeld, Kramer visits a bank that promises to give $100 to anyone who isn’t filenameed with a “hello.” Kramer is instead filenameed with a “hey,” which he insists isn’t a “hello,” and so he asks for $100. The bank’s manager proposes a compromise: “You got a filenameing that starts with an ‘h,’ how does $20 sound?” Kramer accepts.\n",
    "\n",
    "In a file called bank.py, implement a program that prompts the user for a filenameing. If the filenameing starts with “hello”, output $0. If the filenameing starts with an “h” (but not “hello”), output $20. Otherwise, output $100. Ignore any leading whitespace in the user’s filenameing, and treat the user’s filenameing case-insensitively."
   ]
  },
  {
   "cell_type": "code",
   "execution_count": 7,
   "metadata": {},
   "outputs": [
    {
     "name": "stdout",
     "output_type": "stream",
     "text": [
      "$100\n"
     ]
    }
   ],
   "source": [
    "greet=input(\"What's your greet?\").casefold().strip()\n",
    "\n",
    "\n",
    "if greet.startswith(\"hello\"):\n",
    "    print(\"$0\")\n",
    "elif greet.startswith(\"h\"):\n",
    "    print(\"$20\")\n",
    "else:\n",
    "    print(\"$100\")"
   ]
  },
  {
   "cell_type": "markdown",
   "metadata": {},
   "source": [
    "## 3.File Extensions\n"
   ]
  },
  {
   "cell_type": "markdown",
   "metadata": {},
   "source": [
    "Even though Windows and macOS sometimes hide them, most files have file extensions, a suffix that starts with a period (.) at the end of their name. For instance, file names for GIFs end with .gif, and file names for JPEGs end with .jpg or .jpeg. When you double-click on a file to open it, your computer uses its file extension to determine which program to launch.\n",
    "\n",
    "Web browsers, by contrast, rely on media types, formerly known as MIME types, to determine how to display files that live on the web. When you download a file from a web server, that server sends an HTTP header, along with the file itself, indicating the file’s media type. For instance, the media type for a GIF is image/gif, and the media type for a JPEG is image/jpeg. To determine the media type for a file, a web server typically looks at the file’s extension, mapping one to the other.\n",
    "\n",
    "See developer.mozilla.org/en-US/docs/Web/HTTP/Basics_of_HTTP/MIME_types/Common_types for common types.\n",
    "\n",
    "In a file called extensions.py, implement a program that prompts the user for the name of a file and then outputs that file’s media type if the file’s name ends, case-insensitively, in any of these suffixes:\n"
   ]
  },
  {
   "cell_type": "code",
   "execution_count": 11,
   "metadata": {},
   "outputs": [
    {
     "name": "stdout",
     "output_type": "stream",
     "text": [
      "image/jpeg\n"
     ]
    }
   ],
   "source": [
    "filename=input(\"File name:\").casefold().strip()\n",
    "\n",
    "if filename.endswith(\".gif\"):\n",
    "    print(\"image/gif\")\n",
    "elif filename.endswith(\".jpeg\") or filename.endswith(\".jpg\"):\n",
    "    print(\"image/jpeg\")\n",
    "elif filename.endswith(\".png\"):\n",
    "    print(\"image/png\")\n",
    "elif filename.endswith(\".pdf\"):\n",
    "    print(\"application/pdf\")\n",
    "elif filename.endswith(\".txt\"):\n",
    "    print(\"text/plain\")\n",
    "elif filename.endswith(\".zip\"):\n",
    "    print(\"application/zip\")\n",
    "else:\n",
    "    print(\"application/octet-stream\")"
   ]
  },
  {
   "cell_type": "markdown",
   "metadata": {},
   "source": [
    "## 4.Math Interpreter"
   ]
  },
  {
   "cell_type": "markdown",
   "metadata": {},
   "source": [
    "Even if you haven’t studied physics (recently or ever!), you might have heard that E=mc2, wherein E represents energy (measured in Joules),  represents mass (measured in kilograms), and  represents the speed of light (measured approximately as 300000000 meters per second), per Albert Einstein et al. Essentially, the formula means that mass and energy are equivalent.\n",
    "\n",
    "In a file called einstein.py, implement a program in Python that prompts the user for mass as an integer (in kilograms) and then outputs the equivalent number of Joules as an integer. Assume that the user will input an integer."
   ]
  },
  {
   "cell_type": "code",
   "execution_count": 4,
   "metadata": {},
   "outputs": [
    {
     "name": "stdout",
     "output_type": "stream",
     "text": [
      "270000000000000000\n"
     ]
    }
   ],
   "source": [
    "c=300000000\n",
    "m=int(input(\"Enter the mass in kilograms:\"))\n",
    "print(m*c**2)\n",
    "\n"
   ]
  },
  {
   "cell_type": "markdown",
   "metadata": {},
   "source": [
    "## 5.Tip Calculator"
   ]
  },
  {
   "cell_type": "markdown",
   "metadata": {},
   "source": [
    "dollars_to_float, which should accept a str as input  remove the leading $, and return the amount as a float. For instance, given $50.00 as input, it should return 50.0.\n",
    "percent_to_float, which should accept a str as input (formatted as ##%, wherein each # is a decimal digit), remove the trailing %, and return the percentage as a float. For instance, given 15% as input, it should return 0.15."
   ]
  },
  {
   "cell_type": "code",
   "execution_count": 5,
   "metadata": {},
   "outputs": [
    {
     "name": "stdout",
     "output_type": "stream",
     "text": [
      "Leave $0.09\n"
     ]
    }
   ],
   "source": [
    "def main():\n",
    "    dollars = dollars_to_float(input(\"How much was the meal? \"))\n",
    "    percent = percent_to_float(input(\"What percentage would you like to tip? \"))\n",
    "    tip = dollars * percent\n",
    "    print(f\"Leave ${tip:.2f}\")\n",
    "\n",
    "\n",
    "def dollars_to_float(d):\n",
    "    d=d.removeprefix(\"$\")\n",
    "    d=float(d)\n",
    "    return d\n",
    "\n",
    "\n",
    "def percent_to_float(p):\n",
    "    p=p.removesuffix(\"%\")\n",
    "    p=float(p)\n",
    "    return p/100\n",
    "\n",
    "\n",
    "main()"
   ]
  },
  {
   "cell_type": "code",
   "execution_count": 6,
   "metadata": {},
   "outputs": [
    {
     "name": "stdout",
     "output_type": "stream",
     "text": [
      "70\n"
     ]
    }
   ],
   "source": [
    "##Test\n",
    "s=\"$70\"\n",
    "s=s.removeprefix(\"$\")\n",
    "print(s)"
   ]
  }
 ],
 "metadata": {
  "kernelspec": {
   "display_name": "Python 3.10.1 64-bit",
   "language": "python",
   "name": "python3"
  },
  "language_info": {
   "codemirror_mode": {
    "name": "ipython",
    "version": 3
   },
   "file_extension": ".py",
   "mimetype": "text/x-python",
   "name": "python",
   "nbconvert_exporter": "python",
   "pygments_lexer": "ipython3",
   "version": "3.10.1"
  },
  "orig_nbformat": 4,
  "vscode": {
   "interpreter": {
    "hash": "26de051ba29f2982a8de78e945f0abaf191376122a1563185a90213a26c5da77"
   }
  }
 },
 "nbformat": 4,
 "nbformat_minor": 2
}
