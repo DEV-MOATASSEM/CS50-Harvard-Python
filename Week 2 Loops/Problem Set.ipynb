{
 "cells": [
  {
   "cell_type": "markdown",
   "metadata": {},
   "source": [
    "# Conditionals\n"
   ]
  },
  {
   "cell_type": "markdown",
   "metadata": {},
   "source": [
    "## 1. cameCase"
   ]
  },
  {
   "cell_type": "markdown",
   "metadata": {},
   "source": [
    ".\n"
   ]
  },
  {
   "cell_type": "code",
   "execution_count": 26,
   "metadata": {},
   "outputs": [
    {
     "name": "stdout",
     "output_type": "stream",
     "text": [
      "preferred_first_name\n"
     ]
    }
   ],
   "source": [
    "def main():\n",
    "    input_string=input(\"camelCase:\")\n",
    "    for c in input_string:\n",
    "        if c.isupper():\n",
    "            input_string=input_string.replace(c,change(c)) \n",
    "        \n",
    "    print(input_string)\n",
    "     \n",
    "\n",
    "def change(input_replace):\n",
    "    input_replace=input_replace.lower()\n",
    "    input_replace=\"_\"+input_replace\n",
    "    return input_replace\n",
    "    \n",
    "\n",
    "if __name__ == \"__main__\":\n",
    "    main()"
   ]
  },
  {
   "cell_type": "markdown",
   "metadata": {},
   "source": [
    "## 2.Coke Machine"
   ]
  },
  {
   "cell_type": "markdown",
   "metadata": {},
   "source": [
    "."
   ]
  },
  {
   "cell_type": "code",
   "execution_count": 10,
   "metadata": {},
   "outputs": [
    {
     "name": "stdout",
     "output_type": "stream",
     "text": [
      "Amount Due: 25\n",
      "Change Owed: 0\n"
     ]
    }
   ],
   "source": [
    "def main():\n",
    "    price=50\n",
    "    \n",
    "    while True:\n",
    "        amount=int(input(\"Insert Coin:\"))\n",
    "        if amount in [5,10,25]:\n",
    "            price=price-amount\n",
    "            if price>0:\n",
    "                print(\"Amount Due:\",price)\n",
    "            \n",
    "            elif price<0:\n",
    "                print(\"Change Owed:\",abs(price))\n",
    "            \n",
    "                break\n",
    "            elif price==0:\n",
    "                print(\"Change Owed:\",0) \n",
    "                break\n",
    "        elif amount>=50:\n",
    "            \n",
    "            print(\"Change Owed:\",amount-price)    \n",
    "            break\n",
    "        else:\n",
    "            print(\"Amount Due:\",price)\n",
    "        \n",
    "\n",
    "if __name__==\"__main__\":\n",
    "    main()"
   ]
  },
  {
   "cell_type": "markdown",
   "metadata": {},
   "source": [
    "## 3.Just setting up my twttr\n"
   ]
  },
  {
   "cell_type": "code",
   "execution_count": 14,
   "metadata": {},
   "outputs": [
    {
     "name": "stdout",
     "output_type": "stream",
     "text": [
      "CS50\n"
     ]
    }
   ],
   "source": [
    "def main():\n",
    "    input_string=input(\"Input: \")\n",
    "    output_string=\"\"\n",
    "    for c in input_string:\n",
    "        if c in [\"a\",\"e\",\"i\",\"o\",\"u\",\"A\",\"E\",\"I\",\"O\",\"U\"]:\n",
    "            continue\n",
    "        else:\n",
    "            output_string=output_string+c \n",
    "        \n",
    "    print(output_string)\n",
    "     \n",
    "\n",
    "\n",
    "    \n",
    "\n",
    "if __name__ == \"__main__\":\n",
    "    main()"
   ]
  },
  {
   "cell_type": "markdown",
   "metadata": {},
   "source": [
    "## 4.Vanity Plates"
   ]
  },
  {
   "cell_type": "markdown",
   "metadata": {},
   "source": [
    "Much like a list, a str is a “sequence” (of characters), which means it can be “sliced” into shorter strings with syntax like s[i:j]. For instance, if s is \"CS50\", then s[0:2] would be \"CS\"."
   ]
  },
  {
   "cell_type": "code",
   "execution_count": 10,
   "metadata": {},
   "outputs": [
    {
     "name": "stdout",
     "output_type": "stream",
     "text": [
      "10.0\n"
     ]
    }
   ],
   "source": [
    "def main():\n",
    "    plate = input(\"Plate: \")\n",
    "    if is_valid(plate):\n",
    "        print(\"Valid\")\n",
    "    else:\n",
    "        print(\"Invalid\")\n",
    "\n",
    "\n",
    "def is_valid(s):\n",
    "    \n",
    "\n",
    "\n",
    "main()"
   ]
  },
  {
   "cell_type": "markdown",
   "metadata": {},
   "source": [
    "## 5.Meal Time"
   ]
  },
  {
   "cell_type": "markdown",
   "metadata": {},
   "source": [
    "Suppose that you’re in a country where it’s customary to eat breakfast between 7:00 and 8:00, lunch between 12:00 and 13:00, and dinner between 18:00 and 19:00. Wouldn’t it be nice if you had a program that could tell you what to eat when?\n",
    "\n",
    "In meal.py, implement a program that prompts the user for a time and outputs whether it’s breakfast time, lunch time, or dinner time. If it’s not time for a meal, don’t output anything at all. Assume that the user’s input will be formatted in 24-hour time as #:## or ##:##. And assume that each meal’s time range is inclusive. For instance, whether it’s 7:00, 7:01, 7:59, or 8:00, or anytime in between, it’s time for breakfast.\n",
    "\n",
    "Structure your program per the below, wherein convert is a function (that can be called by main) that converts time, a str in 24-hour format, to the corresponding number of hours as a float. For instance, given a time like \"7:30\" (i.e., 7 hours and 30 minutes), convert should return 7.5 (i.e., 7.5 hours)."
   ]
  },
  {
   "cell_type": "code",
   "execution_count": 19,
   "metadata": {},
   "outputs": [
    {
     "name": "stdout",
     "output_type": "stream",
     "text": [
      "\n"
     ]
    }
   ],
   "source": [
    "def main():\n",
    "    time=input(\"What time is it?\").casefold()\n",
    "    \n",
    "    time=convert(time)\n",
    "    if 7.0<=time<=8.0:\n",
    "        print(\"breakfast time\")\n",
    "    elif 12.0<=time<=13.0:\n",
    "        print(\"lunch time\")\n",
    "    elif 18.0<=time<=19.0:\n",
    "        print(\"dinner time\")\n",
    "    else:\n",
    "        print()\n",
    "\n",
    "\n",
    "\n",
    "def convert(time):\n",
    "    h,m=time.split(\":\")\n",
    "    h=float(h)\n",
    "    m=float(m)/60\n",
    "\n",
    "    return h+m    \n",
    "\n",
    "\n",
    "if __name__ == \"__main__\":\n",
    "    \n",
    "    main()"
   ]
  },
  {
   "cell_type": "markdown",
   "metadata": {},
   "source": [
    "if __name__ == \"__main__\":"
   ]
  },
  {
   "cell_type": "markdown",
   "metadata": {},
   "source": [
    "It Allows You to Execute Code When the File Runs as a Script, but Not When It’s Imported as a Module\n",
    "\n",
    "Script: When run as a script, your code prompts the user for input, calls echo(), and prints the result.\n",
    "Module: When you import echo as a module, then echo() gets defined, but no code executes. You provide echo() to the main code session without any side effects.\n"
   ]
  }
 ],
 "metadata": {
  "kernelspec": {
   "display_name": "Python 3.10.1 64-bit",
   "language": "python",
   "name": "python3"
  },
  "language_info": {
   "codemirror_mode": {
    "name": "ipython",
    "version": 3
   },
   "file_extension": ".py",
   "mimetype": "text/x-python",
   "name": "python",
   "nbconvert_exporter": "python",
   "pygments_lexer": "ipython3",
   "version": "3.10.1"
  },
  "orig_nbformat": 4,
  "vscode": {
   "interpreter": {
    "hash": "26de051ba29f2982a8de78e945f0abaf191376122a1563185a90213a26c5da77"
   }
  }
 },
 "nbformat": 4,
 "nbformat_minor": 2
}
