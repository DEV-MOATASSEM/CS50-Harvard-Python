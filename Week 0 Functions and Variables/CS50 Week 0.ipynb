{
 "cells": [
  {
   "cell_type": "markdown",
   "metadata": {},
   "source": [
    "# Functions, Variables\n"
   ]
  },
  {
   "cell_type": "markdown",
   "metadata": {},
   "source": [
    "## Print"
   ]
  },
  {
   "cell_type": "code",
   "execution_count": 3,
   "metadata": {},
   "outputs": [
    {
     "name": "stdout",
     "output_type": "stream",
     "text": [
      "Hello Moatassem\n"
     ]
    }
   ],
   "source": [
    "print(\"Hello Moatassem\")"
   ]
  },
  {
   "cell_type": "markdown",
   "metadata": {},
   "source": [
    "## Input"
   ]
  },
  {
   "cell_type": "code",
   "execution_count": 2,
   "metadata": {},
   "outputs": [
    {
     "name": "stdout",
     "output_type": "stream",
     "text": [
      "Moatassem\n"
     ]
    }
   ],
   "source": [
    "name=input(\"What's your Name?\")\n",
    "print(name)"
   ]
  },
  {
   "cell_type": "markdown",
   "metadata": {},
   "source": [
    "## Return Values and Variables\n"
   ]
  },
  {
   "cell_type": "markdown",
   "metadata": {},
   "source": [
    "\"number\" is variable that will store the input data by the user then this value is returned to the print function in the line-2 to printed on the screen"
   ]
  },
  {
   "cell_type": "code",
   "execution_count": 4,
   "metadata": {},
   "outputs": [
    {
     "name": "stdout",
     "output_type": "stream",
     "text": [
      "7\n"
     ]
    }
   ],
   "source": [
    "number= input(\"What's your favorite number?\") \n",
    "print(number)"
   ]
  },
  {
   "cell_type": "markdown",
   "metadata": {},
   "source": [
    "## Comments and Pseudocode"
   ]
  },
  {
   "cell_type": "markdown",
   "metadata": {},
   "source": [
    "In python commenting is done by adding # before the start of the line "
   ]
  },
  {
   "cell_type": "code",
   "execution_count": 6,
   "metadata": {},
   "outputs": [],
   "source": [
    "#hey this one line comment in python\n"
   ]
  },
  {
   "cell_type": "markdown",
   "metadata": {},
   "source": [
    "## Multiple Function Arguments or Positional parameters "
   ]
  },
  {
   "cell_type": "markdown",
   "metadata": {},
   "source": [
    "### Print Documentation"
   ]
  },
  {
   "cell_type": "markdown",
   "metadata": {},
   "source": [
    "`print(*objects, sep=' ', end='\\n', file=sys.stdout, flush=False)`"
   ]
  },
  {
   "cell_type": "markdown",
   "metadata": {},
   "source": [
    "Link to documentation : `https://docs.python.org/3.10/library/functions.html#print`"
   ]
  },
  {
   "cell_type": "markdown",
   "metadata": {},
   "source": [
    "Objects term refers to unlimited number of arguments we can pass in the print functions.\n",
    "They are called positional because the thing that is passed first will get printed first"
   ]
  },
  {
   "cell_type": "code",
   "execution_count": 13,
   "metadata": {},
   "outputs": [
    {
     "name": "stdout",
     "output_type": "stream",
     "text": [
      "Hello Moatassem 923006172999\n"
     ]
    }
   ],
   "source": [
    "name=input(\"What is your Name?\")\n",
    "contact=923006172999\n",
    "print(\"Hello\",name,contact) #passing 3 objects "
   ]
  },
  {
   "cell_type": "markdown",
   "metadata": {},
   "source": [
    "sep=''  this tells us that after each object '' a space will be printed on the output screen"
   ]
  },
  {
   "cell_type": "code",
   "execution_count": 10,
   "metadata": {},
   "outputs": [
    {
     "name": "stdout",
     "output_type": "stream",
     "text": [
      "Hello Moatassem\n",
      "Hello0000Moatassem\n"
     ]
    }
   ],
   "source": [
    "name=input(\"What is your Name?\")\n",
    "print(\"Hello\",name) #default \n",
    "print(\"Hello\",name,sep='0000') #custom paramater\n",
    "\n"
   ]
  },
  {
   "cell_type": "markdown",
   "metadata": {},
   "source": [
    "`end='\\n'` it shows that after printing the statement it'll print the `\\n` and this will move the curser to the next line"
   ]
  },
  {
   "cell_type": "code",
   "execution_count": 11,
   "metadata": {},
   "outputs": [
    {
     "name": "stdout",
     "output_type": "stream",
     "text": [
      "Hello\n",
      "Moatassem\n",
      "Hello000Moatassem\n"
     ]
    }
   ],
   "source": [
    "name=input(\"What is your Name?\")\n",
    "#default \n",
    "print(\"Hello\")\n",
    "print(name)\n",
    "#custom parameter\n",
    "print(\"Hello\",end='000')\n",
    "print(name)"
   ]
  },
  {
   "cell_type": "markdown",
   "metadata": {},
   "source": [
    "To print `\"\"` in the print statement use `\\\"`"
   ]
  },
  {
   "cell_type": "code",
   "execution_count": 2,
   "metadata": {},
   "outputs": [
    {
     "name": "stdout",
     "output_type": "stream",
     "text": [
      "Hello ,\"Friend\"\n"
     ]
    }
   ],
   "source": [
    "print(\"Hello ,\\\"Friend\\\"\")"
   ]
  },
  {
   "cell_type": "markdown",
   "metadata": {},
   "source": [
    "### Format string"
   ]
  },
  {
   "cell_type": "markdown",
   "metadata": {},
   "source": [
    "use ( f ) before first qutation mark to tell python that it's a formated string"
   ]
  },
  {
   "cell_type": "code",
   "execution_count": 5,
   "metadata": {},
   "outputs": [
    {
     "name": "stdout",
     "output_type": "stream",
     "text": [
      "Hello                     M\n"
     ]
    }
   ],
   "source": [
    "name=input(\"What is your Name?\")\n",
    "print(f\"Hello {name}\")"
   ]
  },
  {
   "cell_type": "markdown",
   "metadata": {},
   "source": [
    "By utilizing the method strip on name as `name = name.strip(),` it will strip all the whitespaces on the left and right of the users input."
   ]
  },
  {
   "cell_type": "code",
   "execution_count": 4,
   "metadata": {},
   "outputs": [
    {
     "name": "stdout",
     "output_type": "stream",
     "text": [
      "Hello Moatassem\n"
     ]
    }
   ],
   "source": [
    "name=input(\"What is your Name?\")\n",
    "name=name.strip()\n",
    "print(f\"Hello {name}\")"
   ]
  },
  {
   "cell_type": "markdown",
   "metadata": {},
   "source": [
    "Using the uppercase method, it would uppercase the first letter of the sentence"
   ]
  },
  {
   "cell_type": "code",
   "execution_count": 7,
   "metadata": {},
   "outputs": [
    {
     "name": "stdout",
     "output_type": "stream",
     "text": [
      "Hello Gii\n"
     ]
    }
   ],
   "source": [
    "name=input(\"What is your Name?\")\n",
    "name=name.capitalize()\n",
    "print(f\"Hello {name}\")"
   ]
  }
 ],
 "metadata": {
  "kernelspec": {
   "display_name": "Python 3.10.1 64-bit",
   "language": "python",
   "name": "python3"
  },
  "language_info": {
   "codemirror_mode": {
    "name": "ipython",
    "version": 3
   },
   "file_extension": ".py",
   "mimetype": "text/x-python",
   "name": "python",
   "nbconvert_exporter": "python",
   "pygments_lexer": "ipython3",
   "version": "3.10.1"
  },
  "orig_nbformat": 4,
  "vscode": {
   "interpreter": {
    "hash": "26de051ba29f2982a8de78e945f0abaf191376122a1563185a90213a26c5da77"
   }
  }
 },
 "nbformat": 4,
 "nbformat_minor": 2
}
